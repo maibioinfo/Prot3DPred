{
  "nbformat": 4,
  "nbformat_minor": 0,
  "metadata": {
    "colab": {
      "provenance": []
    },
    "kernelspec": {
      "name": "python3",
      "display_name": "Python 3"
    },
    "language_info": {
      "name": "python"
    }
  },
  "cells": [
    {
      "cell_type": "markdown",
      "source": [
        "# Get the data in this session"
      ],
      "metadata": {
        "id": "3UVMwVF0ehm7"
      }
    },
    {
      "cell_type": "code",
      "execution_count": null,
      "metadata": {
        "colab": {
          "base_uri": "https://localhost:8080/"
        },
        "id": "FRGEVKms4Z1J",
        "outputId": "0e979fb2-ac28-4e38-bc42-fff4a188c80f"
      },
      "outputs": [
        {
          "output_type": "stream",
          "name": "stdout",
          "text": [
            "fatal: destination path 'protein-ss-pred' already exists and is not an empty directory.\n"
          ]
        }
      ],
      "source": [
        "!git clone https://github.com/katarinaelez/protein-ss-pred.git"
      ]
    },
    {
      "cell_type": "markdown",
      "source": [
        "# Declare functions to fetch and format data"
      ],
      "metadata": {
        "id": "JGjplVqweg9Z"
      }
    },
    {
      "cell_type": "code",
      "source": [
        "# load packages\n",
        "%matplotlib inline\n",
        "import numpy as np\n",
        "import scipy.stats as stats\n",
        "from sklearn import svm\n",
        "from sklearn.neural_network import MLPClassifier\n",
        "from sklearn.metrics import accuracy_score, precision_score, recall_score, f1_score, matthews_corrcoef\n",
        "\n",
        "import matplotlib\n",
        "import matplotlib.pyplot as plt\n",
        "import seaborn as sns\n",
        "\n",
        "import pandas as pd\n",
        "\n",
        "import os.path\n",
        "\n",
        "import keras\n",
        "from keras import layers\n",
        "from tensorflow.keras.utils import to_categorical\n",
        "import tensorflow as tf\n",
        "tf.random.set_seed(1)\n",
        "\n",
        "# functions\n",
        "def parse_pssm(pssm_filename):\n",
        "  amino_acids = 'ACDEFGHIKLMNPQRSTVWY'\n",
        "  num_aas = len(amino_acids)\n",
        "  sequence = ''\n",
        "  profile = []\n",
        "\n",
        "  # fetch protein sequence and frequencies from pssm file\n",
        "  with open(pssm_filename) as pssm:\n",
        "    pssm_lines = pssm.readlines()\n",
        "    for line in pssm_lines[3:-6]:\n",
        "      profile_line = []\n",
        "      for n in line.rstrip().split()[22:-2]:\n",
        "        profile_line.append(float(n)/100)\n",
        "      profile.append(profile_line)\n",
        "      sequence += line[6]\n",
        "\n",
        "  # one-hot encode protein sequence\n",
        "  encoding = np.zeros((len(sequence), num_aas))\n",
        "  for i, aa in enumerate(sequence):\n",
        "    if aa in amino_acids:\n",
        "      index = amino_acids.index(aa)\n",
        "      encoding[i, index] = 1\n",
        "    else: encoding[i, :] = 0.05\n",
        "\n",
        "  return encoding, profile\n",
        "\n",
        "def parse_dssp(dssp_filename):\n",
        "\tss = ''\n",
        "\twith open(dssp_filename) as dssp:\n",
        "\t\tdssp.readline()\n",
        "\t\tss = dssp.readline().rstrip()\n",
        "\treturn ss\n",
        "\n",
        "def fetch_data(window, cv=False, train=True):\n",
        "  ss_map = {'H':[1,0,0], 'E':[0,1,0], 'C':[0,0,1], '-':[0,0,1]}\n",
        "\n",
        "  # check window is an odd integer\n",
        "  assert type(window) == int, 'Error: window must be an integer!'\n",
        "  assert window%2!=0, 'Error: window must be an ODD integer!'\n",
        "\n",
        "  # select which data to fetch and load the right list of ids\n",
        "  if not cv:\n",
        "    path = '/content/protein-ss-pred/data/blindTest/'\n",
        "    id_list = [line.rstrip() for line in open(path+'list.txt')]\n",
        "    print ('You are getting the test data!')\n",
        "  else:\n",
        "    cv = str(cv)\n",
        "    path = '/content/protein-ss-pred/data/training/'\n",
        "    if train:\n",
        "      id_list = [line.rstrip() for line in open(path+'/cv/train'+cv+'.txt')]\n",
        "      print ('You are getting the train partition of cross-validation set '+cv)\n",
        "    else:\n",
        "      id_list = [line.rstrip() for line in open(path+'/cv/test'+cv+'.txt')]\n",
        "      print ('You are getting the test partition of cross-validation set '+cv)\n",
        "\n",
        "  X, Y = [], []\n",
        "  for id in id_list:\n",
        "    # fetch input features\n",
        "    sequence, profile = np.array(parse_pssm(path+'/pssm/'+id+'.pssm'))\n",
        "    x = np.concatenate((sequence, profile), axis=-1)\n",
        "\n",
        "    # fetch and encode labels\n",
        "    ss = parse_dssp(path+'/dssp/'+id+'.dssp')\n",
        "    y = np.array([ss_map[c] for c in ss])\n",
        "\n",
        "    #add (window-1)/2 padding on both sequence sides\n",
        "    #to create window for first and last positions\n",
        "    side = int((window-1)/2)\n",
        "    x_pad = np.zeros((side, 40))\n",
        "    x = np.concatenate((x_pad, x, x_pad), axis=0)\n",
        "\n",
        "    #extract all windows\n",
        "    X += [x[i-side:i+side+1,:] for i in range(side, len(x)-side-1)]\n",
        "    Y += [y[i,:] for i in range(len(y))]\n",
        "    X.append(x[-2*side-1:,:])\n",
        "\n",
        "  return np.array(X), np.array(Y)"
      ],
      "metadata": {
        "id": "xp7T9Yga4nw2"
      },
      "execution_count": null,
      "outputs": []
    },
    {
      "cell_type": "markdown",
      "source": [
        "# Format some data"
      ],
      "metadata": {
        "id": "E5PA_WpVexzO"
      }
    },
    {
      "cell_type": "code",
      "source": [
        "window = 11\n",
        "x_train_cv1, y_train_cv1 = fetch_data(window, cv=1)\n",
        "print (x_train_cv1.shape, y_train_cv1.shape)\n",
        "\n",
        "### the resulting input features array shape has:\n",
        "# in the first position all amino acids in the selected train or test set\n",
        "# in the second position the window size\n",
        "# in the third position the number of features (amino acid identity and pssm frequencies)\n",
        "\n",
        "### the resulting output label array shape has instead:\n",
        "# in the first position all amino acids in the selected train or test set\n",
        "# in the second position the number of classes"
      ],
      "metadata": {
        "colab": {
          "base_uri": "https://localhost:8080/"
        },
        "id": "ds6JWBFpUSrv",
        "outputId": "ddf8cd17-61b9-48e7-e0d4-2ad83f7c3ce7"
      },
      "execution_count": null,
      "outputs": [
        {
          "output_type": "stream",
          "name": "stdout",
          "text": [
            "You are getting the train partition of cross-validation set 1\n",
            "(157415, 11, 40) (157415, 3)\n"
          ]
        }
      ]
    },
    {
      "cell_type": "markdown",
      "source": [
        "# Declare and train a neural network"
      ],
      "metadata": {
        "id": "rYlIbZ5FfC3h"
      }
    },
    {
      "cell_type": "code",
      "source": [
        "x_train_cv1 = np.array(x_train_cv1)\n",
        "y_train_cv1 = np.array(y_train_cv1)\n",
        "input_shape = (window, 40)\n",
        "num_classes = 3\n",
        "\n",
        "model = keras.Sequential([\n",
        "    keras.Input(shape=input_shape),\n",
        "    layers.Conv1D(16, 3, activation='relu', padding='same'),\n",
        "    layers.MaxPooling1D(2),\n",
        "    layers.Flatten(),\n",
        "    layers.Dense(32, activation='relu'),\n",
        "    layers.Dense(3, activation='softmax')\n",
        "])\n",
        "model.summary()\n",
        "\n",
        "model.compile(optimizer='adam',\n",
        "              loss='categorical_crossentropy',\n",
        "              metrics=['accuracy'])\n",
        "\n",
        "h = model.fit(x_train_cv1, y_train_cv1, batch_size=512, epochs=10, validation_split=0.1)"
      ],
      "metadata": {
        "colab": {
          "base_uri": "https://localhost:8080/"
        },
        "id": "i20Usq96VWDS",
        "outputId": "1d3790b8-27cc-4df6-9103-8aeb2e309cb0"
      },
      "execution_count": null,
      "outputs": [
        {
          "output_type": "stream",
          "name": "stdout",
          "text": [
            "Model: \"sequential_1\"\n",
            "_________________________________________________________________\n",
            " Layer (type)                Output Shape              Param #   \n",
            "=================================================================\n",
            " conv1d_1 (Conv1D)           (None, 11, 16)            1936      \n",
            "                                                                 \n",
            " max_pooling1d_1 (MaxPoolin  (None, 5, 16)             0         \n",
            " g1D)                                                            \n",
            "                                                                 \n",
            " flatten_1 (Flatten)         (None, 80)                0         \n",
            "                                                                 \n",
            " dense_2 (Dense)             (None, 32)                2592      \n",
            "                                                                 \n",
            " dense_3 (Dense)             (None, 3)                 99        \n",
            "                                                                 \n",
            "=================================================================\n",
            "Total params: 4627 (18.07 KB)\n",
            "Trainable params: 4627 (18.07 KB)\n",
            "Non-trainable params: 0 (0.00 Byte)\n",
            "_________________________________________________________________\n",
            "Epoch 1/10\n",
            "277/277 [==============================] - 4s 10ms/step - loss: 0.8198 - accuracy: 0.6314 - val_loss: 0.7014 - val_accuracy: 0.7115\n",
            "Epoch 2/10\n",
            "277/277 [==============================] - 2s 8ms/step - loss: 0.6955 - accuracy: 0.7087 - val_loss: 0.6596 - val_accuracy: 0.7287\n",
            "Epoch 3/10\n",
            "277/277 [==============================] - 3s 10ms/step - loss: 0.6646 - accuracy: 0.7230 - val_loss: 0.6342 - val_accuracy: 0.7406\n",
            "Epoch 4/10\n",
            "277/277 [==============================] - 3s 10ms/step - loss: 0.6453 - accuracy: 0.7310 - val_loss: 0.6259 - val_accuracy: 0.7425\n",
            "Epoch 5/10\n",
            "277/277 [==============================] - 2s 9ms/step - loss: 0.6309 - accuracy: 0.7382 - val_loss: 0.6079 - val_accuracy: 0.7507\n",
            "Epoch 6/10\n",
            "277/277 [==============================] - 2s 9ms/step - loss: 0.6202 - accuracy: 0.7427 - val_loss: 0.5972 - val_accuracy: 0.7540\n",
            "Epoch 7/10\n",
            "277/277 [==============================] - 3s 9ms/step - loss: 0.6111 - accuracy: 0.7470 - val_loss: 0.5919 - val_accuracy: 0.7568\n",
            "Epoch 8/10\n",
            "277/277 [==============================] - 3s 12ms/step - loss: 0.6050 - accuracy: 0.7494 - val_loss: 0.5904 - val_accuracy: 0.7577\n",
            "Epoch 9/10\n",
            "277/277 [==============================] - 3s 10ms/step - loss: 0.5985 - accuracy: 0.7523 - val_loss: 0.5835 - val_accuracy: 0.7626\n",
            "Epoch 10/10\n",
            "277/277 [==============================] - 2s 8ms/step - loss: 0.5944 - accuracy: 0.7544 - val_loss: 0.5806 - val_accuracy: 0.7640\n"
          ]
        }
      ]
    },
    {
      "cell_type": "markdown",
      "source": [
        "# Fetch test data, use fitted model to get predictions, and evaluate predictions"
      ],
      "metadata": {
        "id": "mOrk_Vu4fJFP"
      }
    },
    {
      "cell_type": "code",
      "source": [
        "x_test_cv1, y_test_cv1 = fetch_data(window, cv=1, train=False)"
      ],
      "metadata": {
        "colab": {
          "base_uri": "https://localhost:8080/"
        },
        "id": "R7ryTi-JX3fG",
        "outputId": "d73f2853-4548-48d0-9f62-929439f04650"
      },
      "execution_count": null,
      "outputs": [
        {
          "output_type": "stream",
          "name": "stdout",
          "text": [
            "You are getting the test partition of cross-validation set 1\n"
          ]
        }
      ]
    },
    {
      "cell_type": "code",
      "source": [
        "predictions = model.predict(x_test_cv1)"
      ],
      "metadata": {
        "colab": {
          "base_uri": "https://localhost:8080/"
        },
        "id": "wy7l4Y2eaRYY",
        "outputId": "475c78b1-0583-4801-eef4-3ad0cff20e89"
      },
      "execution_count": null,
      "outputs": [
        {
          "output_type": "stream",
          "name": "stdout",
          "text": [
            "1273/1273 [==============================] - 3s 2ms/step\n"
          ]
        }
      ]
    },
    {
      "cell_type": "code",
      "source": [
        "acc = 0\n",
        "for y, y_real in zip(predictions, y_test_cv1):\n",
        "  if y_real[np.argmax(y)] == 1:\n",
        "    acc += 1\n",
        "acc /= len(predictions)\n",
        "print ('Accuracy:', round(acc,2))"
      ],
      "metadata": {
        "colab": {
          "base_uri": "https://localhost:8080/"
        },
        "id": "jEOq_x4NalL4",
        "outputId": "792b222e-7b5c-40d1-f1fd-581812f1bba9"
      },
      "execution_count": null,
      "outputs": [
        {
          "output_type": "stream",
          "name": "stdout",
          "text": [
            "Accuracy: 0.74\n"
          ]
        }
      ]
    },
    {
      "cell_type": "markdown",
      "source": [
        "# Prediction for a single sequence (PSSM or id)"
      ],
      "metadata": {
        "id": "ac14LOUqhUeA"
      }
    },
    {
      "cell_type": "code",
      "source": [
        "def predict_secondary_structure(pssm_filepath, model, window_size):\n",
        "    sequence_encoding, profile = parse_pssm(pssm_filepath)\n",
        "    x = np.concatenate((sequence_encoding, profile), axis=-1)\n",
        "    side = int((window_size - 1) / 2)\n",
        "    x_pad = np.zeros((side, x.shape[1]))\n",
        "    x_padded = np.concatenate((x_pad, x, x_pad), axis=0)\n",
        "    windows = [x_padded[i-side:i+side+1, :] for i in range(side, len(x_padded)-side)]\n",
        "    windows = np.array(windows)\n",
        "    predictions = model.predict(windows)\n",
        "    predicted_classes = np.argmax(predictions, axis=1)\n",
        "\n",
        "    # Single element extraction, otherwise it creates an error\n",
        "    mode_result = stats.mode(predicted_classes)\n",
        "    most_common_class = mode_result.mode.item()\n",
        "    class_to_label = {0: 'H', 1: 'E', 2: 'C'}\n",
        "    predicted_structure = class_to_label.get(most_common_class, \"Unknown\")\n",
        "    return predicted_structure\n",
        "\n",
        "pssm_filepath = '/content/protein-ss-pred/data/blindTest/pssm/4S1H:A.pssm'\n",
        "window_size = 11\n",
        "predicted_structure = predict_secondary_structure(pssm_filepath, model, window_size)\n",
        "print(f\"Predicted Secondary Structure: {predicted_structure}\")"
      ],
      "metadata": {
        "colab": {
          "base_uri": "https://localhost:8080/"
        },
        "id": "6i-ZClfSlCsR",
        "outputId": "5b316e3e-41b7-4331-cff1-535de26d0eca"
      },
      "execution_count": null,
      "outputs": [
        {
          "output_type": "stream",
          "name": "stdout",
          "text": [
            "9/9 [==============================] - 0s 3ms/step\n",
            "Predicted Secondary Structure: C\n"
          ]
        }
      ]
    },
    {
      "cell_type": "code",
      "source": [
        "def predict_secondary_structure(id, model, window_size):\n",
        "    sequence_encoding, profile = np.array(parse_pssm('/content/protein-ss-pred/data/blindTest/pssm/'+id+'.pssm'))\n",
        "    x = np.concatenate((sequence_encoding, profile), axis=-1)\n",
        "    side = int((window_size - 1) / 2)\n",
        "    x_pad = np.zeros((side, x.shape[1]))\n",
        "    x_padded = np.concatenate((x_pad, x, x_pad), axis=0)\n",
        "    windows = [x_padded[i-side:i+side+1, :] for i in range(side, len(x_padded)-side)]\n",
        "    windows = np.array(windows)\n",
        "    predictions = model.predict(windows)\n",
        "    predicted_classes = np.argmax(predictions, axis=1)\n",
        "\n",
        "    # Single element extraction, otherwise it creates an error\n",
        "    mode_result = stats.mode(predicted_classes)\n",
        "    most_common_class = mode_result.mode.item()\n",
        "    class_to_label = {0: 'H', 1: 'E', 2: 'C'}\n",
        "    predicted_structure = class_to_label.get(most_common_class, \"Unknown\")\n",
        "    return predicted_structure\n",
        "\n",
        "id = '4S1H:A'\n",
        "window_size = 11\n",
        "predicted_structure = predict_secondary_structure(id, model, window_size)\n",
        "print(f\"Predicted Secondary Structure: {predicted_structure}\")"
      ],
      "metadata": {
        "colab": {
          "base_uri": "https://localhost:8080/"
        },
        "id": "b7TBH7_fWDq4",
        "outputId": "b2e4ed59-8713-4eae-bcbe-a2b7e18e8003"
      },
      "execution_count": null,
      "outputs": [
        {
          "output_type": "stream",
          "name": "stdout",
          "text": [
            "9/9 [==============================] - 0s 4ms/step\n",
            "Predicted Secondary Structure: C\n"
          ]
        }
      ]
    }
  ]
}